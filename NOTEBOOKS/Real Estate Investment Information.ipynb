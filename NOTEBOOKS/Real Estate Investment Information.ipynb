{
 "cells": [
  {
   "cell_type": "markdown",
   "metadata": {},
   "source": [
    "# Module 4 Project"
   ]
  },
  {
   "cell_type": "markdown",
   "metadata": {},
   "source": [
    "# Industry Knowledge"
   ]
  },
  {
   "cell_type": "markdown",
   "metadata": {},
   "source": [
    "### How do real estate investment companies make money with single family homes? "
   ]
  },
  {
   "cell_type": "markdown",
   "metadata": {},
   "source": [
    "Real estate investment companies make money with single family homes by: \n",
    "   - Renovating and selling (also known as 'flipping')\n",
    "   - Renting property to tenants"
   ]
  },
  {
   "cell_type": "markdown",
   "metadata": {},
   "source": [
    "### Strategy Breakdown: Flipping"
   ]
  },
  {
   "cell_type": "markdown",
   "metadata": {},
   "source": [
    " - Acquire an undervalued property\n",
    "     - Probate or foreclosure properties ideally\n",
    " - Renovate to increase value\n",
    " - Sell at increased value\n",
    " - Result: One time payment for selling the property\n",
    " - Profit: The repaired value minus the costs of repair"
   ]
  },
  {
   "cell_type": "markdown",
   "metadata": {},
   "source": [
    "#### Pros of Flipping\n",
    " - Short term commitment for a large payoff"
   ]
  },
  {
   "cell_type": "markdown",
   "metadata": {},
   "source": [
    "#### Cons of Flipping\n",
    " - No passive income\n",
    " - No equity retained"
   ]
  },
  {
   "cell_type": "markdown",
   "metadata": {},
   "source": [
    "### Strategy Breakdown: Renting"
   ]
  },
  {
   "cell_type": "markdown",
   "metadata": {},
   "source": [
    " - Acquire an undervalued property\n",
    "     - Probate or foreclosure properties ideally\n",
    " - Renovate to increase value\n",
    " - Rent to tenant at increased value\n",
    " - Result: Recurring monthly payments from tenants\n",
    " - Profit: Tenant payments minus the costs of maintaining the property"
   ]
  },
  {
   "cell_type": "markdown",
   "metadata": {},
   "source": [
    "#### Pros of Renting\n",
    " - Passive income\n",
    " - Retaining property equity\n",
    " - Ability to refinance a property"
   ]
  },
  {
   "cell_type": "markdown",
   "metadata": {},
   "source": [
    "#### Cons of Renting\n",
    " - Long investment period before payoff\n",
    " - Cost of maintaining the property"
   ]
  },
  {
   "cell_type": "markdown",
   "metadata": {},
   "source": [
    "### Targeting Probate and Foreclosure Properties"
   ]
  },
  {
   "cell_type": "markdown",
   "metadata": {},
   "source": [
    "Real estate investment companies try to capitalize on situations where properties need to be sold quickly.\n",
    "Here are two situations where it is possible to find a 'highly motivated' seller: \n",
    "   - Probate: When a homeowner is deceased.\n",
    "   - Foreclosure: When a bank takes possession of a mortgaged property due to the mortgage holder failing to make payments. "
   ]
  },
  {
   "cell_type": "markdown",
   "metadata": {},
   "source": [
    "# Strategic Approach"
   ]
  },
  {
   "cell_type": "markdown",
   "metadata": {},
   "source": [
    "# 'Best' Investment Strategy for the Investor: Rehab to Rent"
   ]
  },
  {
   "cell_type": "markdown",
   "metadata": {},
   "source": [
    "### The rehab to rent strategy is a good long term strategy with a high ROI. Additionally there's no evidence of the risk being higher than other strategies. "
   ]
  },
  {
   "cell_type": "markdown",
   "metadata": {},
   "source": [
    "In this scenario, the best strategy to focus on for the real estate investment company is to buy undervalued single family properties, rehabilitate them, and rent them to tenants.\n",
    "This is the 'best' investment strategy for a real estate investment company because: \n",
    " - The company likely has plenty of runway\n",
    " - The company can leverage assets to finance deals\n",
    " - Within 2 years of renting out a property, the company will likely profit the same as if they had sold the property while retaining the equity of the property. Potentially, they will also be able to refinance the property to fund other deals. \n",
    " - This is a better strategy in the long term and an easier strategy to maintain. "
   ]
  },
  {
   "cell_type": "markdown",
   "metadata": {},
   "source": [
    "### Rehab to Rent Process"
   ]
  },
  {
   "cell_type": "markdown",
   "metadata": {},
   "source": [
    "1. Acquire Property\n",
    "2. Rehabilitate \n",
    "3. Rent to Tenant\n",
    "4. Profit"
   ]
  },
  {
   "cell_type": "markdown",
   "metadata": {},
   "source": [
    "### Data Attributes to Consider Geographically "
   ]
  },
  {
   "cell_type": "markdown",
   "metadata": {},
   "source": [
    "The data provided allows us to understand the median income by zipcode from 1996 to 2018.\n",
    "What we need to think about is how median sale price will relate to the rehab and rent strategy. \n",
    "Looking for geographic location that: \n",
    "   - has appreciated over time at a good rate\n",
    "   - has not dipped extremely low during recessions \n",
    "   - is predicted to increase considerably for the forseeable future\n",
    "   - a balance of homeowners and renters\n",
    "   - market competition\n",
    "   - blockers in the market\n",
    "   - average rental price\n",
    "   - average property value\n",
    "   - average remodel costs"
   ]
  },
  {
   "cell_type": "markdown",
   "metadata": {},
   "source": [
    "balance of homeowners and renters\n",
    "average home remodel costs\n"
   ]
  },
  {
   "cell_type": "markdown",
   "metadata": {},
   "source": [
    "valuable insights provided by the census. "
   ]
  },
  {
   "cell_type": "markdown",
   "metadata": {},
   "source": [
    "what type of task is it to determine how much of all of these factors are affecting the profit? Regression task. \n",
    "\n"
   ]
  },
  {
   "cell_type": "code",
   "execution_count": null,
   "metadata": {},
   "outputs": [],
   "source": []
  }
 ],
 "metadata": {
  "kernelspec": {
   "display_name": "Python 3",
   "language": "python",
   "name": "python3"
  },
  "language_info": {
   "codemirror_mode": {
    "name": "ipython",
    "version": 3
   },
   "file_extension": ".py",
   "mimetype": "text/x-python",
   "name": "python",
   "nbconvert_exporter": "python",
   "pygments_lexer": "ipython3",
   "version": "3.7.6"
  }
 },
 "nbformat": 4,
 "nbformat_minor": 4
}
